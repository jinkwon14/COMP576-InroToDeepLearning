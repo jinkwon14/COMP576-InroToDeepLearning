{
 "cells": [
  {
   "cell_type": "markdown",
   "metadata": {},
   "source": [
    "## COMP576 - Intro to Deep Learning\n",
    "### __Task 2__\n",
    "Jin Kwon (netid: jk14)"
   ]
  },
  {
   "cell_type": "code",
   "execution_count": 5,
   "metadata": {
    "collapsed": false
   },
   "outputs": [
    {
     "name": "stdout",
     "output_type": "stream",
     "text": [
      "packages loaded!\n"
     ]
    }
   ],
   "source": [
    "# load packages\n",
    "from numpy import * \n",
    "import scipy.linalg\n",
    "print('packages loaded!')"
   ]
  },
  {
   "cell_type": "markdown",
   "metadata": {},
   "source": [
    "#### 1. "
   ]
  },
  {
   "cell_type": "code",
   "execution_count": 12,
   "metadata": {
    "collapsed": false
   },
   "outputs": [
    {
     "name": "stdout",
     "output_type": "stream",
     "text": [
      "numpy functions from this point will be tested with the following         arrays: \n",
      "\n",
      " a = [3 4], \n",
      " b = [[1 2 3]\n",
      " [4 5 6]] \n",
      "\n",
      "ndim - a: 1,  b: 2\n",
      "size - a: 2,  b: 6\n",
      "shape - a: (2,),  b: (2, 3)\n",
      "a.shape[n-1] - a: 2,  b: 2\n",
      "a.shape[n-1] - b: 3\n"
     ]
    }
   ],
   "source": [
    "# load a random array a\n",
    "a = array([3,4])\n",
    "b = array([[1,2,3], [4,5,6]])\n",
    "print('numpy functions from this point will be tested with the following \\\n",
    "        arrays: \\n\\n a = {}, \\n b = {}'.format(a, b), '\\n')\n",
    "# get the number of dimensions of an array\n",
    "print('ndim - a: {},  b: {}'.format(ndim(a), ndim(b)))\n",
    "print('size - a: {},  b: {}'.format(size(a), size(b)))\n",
    "print('shape - a: {},  b: {}'.format(shape(a), shape(b)))\n",
    "n = 1\n",
    "print('a.shape[n-1] - a: {},  b: {}'.format(a.shape[n-1], b.shape[n-1]))\n",
    "n = 2\n",
    "print('a.shape[n-1] - b: {}'.format(b.shape[n-1]))"
   ]
  },
  {
   "cell_type": "markdown",
   "metadata": {},
   "source": [
    "#### 2."
   ]
  },
  {
   "cell_type": "code",
   "execution_count": 13,
   "metadata": {
    "collapsed": false
   },
   "outputs": [
    {
     "name": "stdout",
     "output_type": "stream",
     "text": [
      "[['1.0' '2.0' '3.0' 'a' 'b' 'c']\n",
      " ['4.0' '5.0' '6.0' 'd' 'e' 'f']\n",
      " ['1.1' '2.2' '3.3' '0.0' '0.0' '0.0']\n",
      " ['4.4' '5.5' '6.6' '0.0' '0.0' '0.0']]\n",
      "[['1.0' '2.0' '3.0' 'a' 'b' 'c']\n",
      " ['4.0' '5.0' '6.0' 'd' 'e' 'f']\n",
      " ['1.1' '2.2' '3.3' '0.0' '0.0' '0.0']\n",
      " ['4.4' '5.5' '6.6' '0.0' '0.0' '0.0']]\n",
      "[ 0.66701924  0.03643286  0.02953029  0.23674943  0.71004936  0.97780169\n",
      "  0.97972374  0.93571063  0.67666538  0.73829124]\n",
      "0.158087955675\n",
      "[ 0.01330494  0.02208596  0.15808796  0.11705564  0.1685893   0.24053583\n",
      "  0.87033159  0.0707704   0.1987183   0.55701458] [ 0.01330494  0.02208596  0.15808796  0.11705564  0.1685893   0.24053583\n",
      "  0.87033159  0.0707704   0.1987183   0.55701458]\n",
      "[[ 0.54915869  0.10283603  0.81634805  0.90906128  0.97729257  0.60730301\n",
      "   0.07765037  0.64247224  0.71207003  0.55025816]\n",
      " [ 0.01330494  0.02208596  0.15808796  0.11705564  0.1685893   0.24053583\n",
      "   0.87033159  0.0707704   0.1987183   0.55701458]] [[ 0.54915869  0.10283603  0.81634805  0.90906128  0.97729257  0.60730301\n",
      "   0.07765037  0.64247224  0.71207003  0.55025816]\n",
      " [ 0.01330494  0.02208596  0.15808796  0.11705564  0.1685893   0.24053583\n",
      "   0.87033159  0.0707704   0.1987183   0.55701458]] [[ 0.54915869  0.10283603  0.81634805  0.90906128  0.97729257  0.60730301\n",
      "   0.07765037  0.64247224  0.71207003  0.55025816]\n",
      " [ 0.01330494  0.02208596  0.15808796  0.11705564  0.1685893   0.24053583\n",
      "   0.87033159  0.0707704   0.1987183   0.55701458]]\n",
      "[[ 0.66701924  0.03643286  0.02953029  0.23674943  0.71004936  0.97780169\n",
      "   0.97972374  0.93571063  0.67666538  0.73829124]]\n",
      "[[ 0.10283603]\n",
      " [ 0.02208596]]\n",
      "[[ 0.25410783  0.68923833  0.34431324  0.08084605  0.23043917  0.48310739\n",
      "   0.5764991   0.38106049  0.27737875  0.21718983]\n",
      " [ 0.68713546  0.8051753   0.51816762  0.69039317  0.940553    0.72215408\n",
      "   0.39486055  0.48644979  0.13009674  0.27008306]\n",
      " [ 0.69156953  0.73976722  0.49777517  0.97373031  0.18781338  0.65709682\n",
      "   0.61988999  0.08797556  0.35123187  0.40836781]\n",
      " [ 0.69716019  0.74470572  0.40830559  0.22315603  0.61765268  0.07275351\n",
      "   0.65695926  0.46398858  0.82606024  0.45351397]]\n",
      "[[ 0.54915869  0.10283603  0.81634805  0.90906128  0.97729257  0.60730301\n",
      "   0.07765037  0.64247224  0.71207003  0.55025816]\n",
      " [ 0.25410783  0.68923833  0.34431324  0.08084605  0.23043917  0.48310739\n",
      "   0.5764991   0.38106049  0.27737875  0.21718983]\n",
      " [ 0.68713546  0.8051753   0.51816762  0.69039317  0.940553    0.72215408\n",
      "   0.39486055  0.48644979  0.13009674  0.27008306]\n",
      " [ 0.69156953  0.73976722  0.49777517  0.97373031  0.18781338  0.65709682\n",
      "   0.61988999  0.08797556  0.35123187  0.40836781]\n",
      " [ 0.69716019  0.74470572  0.40830559  0.22315603  0.61765268  0.07275351\n",
      "   0.65695926  0.46398858  0.82606024  0.45351397]]\n",
      "[[ 0.66701924  0.03643286  0.02953029  0.23674943  0.71004936  0.97780169\n",
      "   0.97972374  0.93571063  0.67666538  0.73829124]\n",
      " [ 0.69716019  0.74470572  0.40830559  0.22315603  0.61765268  0.07275351\n",
      "   0.65695926  0.46398858  0.82606024  0.45351397]\n",
      " [ 0.99568379  0.39291188  0.37298417  0.03389526  0.25326196  0.47304107\n",
      "   0.96150492  0.14009189  0.30783851  0.84885137]\n",
      " [ 0.69156953  0.73976722  0.49777517  0.97373031  0.18781338  0.65709682\n",
      "   0.61988999  0.08797556  0.35123187  0.40836781]\n",
      " [ 0.19674006  0.59083574  0.67643643  0.62002534  0.64893014  0.28460456\n",
      "   0.14242528  0.55954129  0.90447321  0.26752055]\n",
      " [ 0.68713546  0.8051753   0.51816762  0.69039317  0.940553    0.72215408\n",
      "   0.39486055  0.48644979  0.13009674  0.27008306]\n",
      " [ 0.68334058  0.05332728  0.93345336  0.6520828   0.68105049  0.20862432\n",
      "   0.7277827   0.75074892  0.58819159  0.68944003]\n",
      " [ 0.25410783  0.68923833  0.34431324  0.08084605  0.23043917  0.48310739\n",
      "   0.5764991   0.38106049  0.27737875  0.21718983]\n",
      " [ 0.01330494  0.02208596  0.15808796  0.11705564  0.1685893   0.24053583\n",
      "   0.87033159  0.0707704   0.1987183   0.55701458]\n",
      " [ 0.54915869  0.10283603  0.81634805  0.90906128  0.97729257  0.60730301\n",
      "   0.07765037  0.64247224  0.71207003  0.55025816]]\n",
      "[[ 0.54915869  0.10283603  0.81634805  0.90906128  0.97729257  0.60730301\n",
      "   0.07765037  0.64247224  0.71207003  0.55025816]\n",
      " [ 0.01330494  0.02208596  0.15808796  0.11705564  0.1685893   0.24053583\n",
      "   0.87033159  0.0707704   0.1987183   0.55701458]\n",
      " [ 0.54915869  0.10283603  0.81634805  0.90906128  0.97729257  0.60730301\n",
      "   0.07765037  0.64247224  0.71207003  0.55025816]]\n"
     ]
    }
   ],
   "source": [
    "a = array([[1., 2., 3.], [4., 5., 6.]])\n",
    "b = array([['a', 'b', 'c'], ['d', 'e', 'f']])\n",
    "c = array([[1.1, 2.2, 3.3], [4.4, 5.5, 6.6]])\n",
    "d = array([[0, 0, 0], [0, 0, 0]])\n",
    "\n",
    "aa = random.rand(10,10)\n",
    "print(vstack([hstack([a,b]),hstack([c,d])]))\n",
    "print(bmat('a b; c d').A)\n",
    "print(aa[-1])\n",
    "print(aa[1, 2])\n",
    "print(aa[1], aa[1,:])\n",
    "print(aa[0:2], aa[:2], aa[0:2, :])\n",
    "print(aa[-1:])\n",
    "print(aa[0:2][:,1:2])\n",
    "print(aa[ 2:21:2, :])\n",
    "print(aa[::2, :])\n",
    "print(aa[::-1,:])\n",
    "print(aa[r_[:len(a),0]])"
   ]
  },
  {
   "cell_type": "markdown",
   "metadata": {},
   "source": [
    "#### 3. "
   ]
  },
  {
   "cell_type": "code",
   "execution_count": 20,
   "metadata": {
    "collapsed": false
   },
   "outputs": [
    {
     "name": "stdout",
     "output_type": "stream",
     "text": [
      "[[ 0.54915869  0.01330494  0.25410783  0.68334058  0.68713546  0.19674006\n",
      "   0.69156953  0.99568379  0.69716019  0.66701924]\n",
      " [ 0.10283603  0.02208596  0.68923833  0.05332728  0.8051753   0.59083574\n",
      "   0.73976722  0.39291188  0.74470572  0.03643286]\n",
      " [ 0.81634805  0.15808796  0.34431324  0.93345336  0.51816762  0.67643643\n",
      "   0.49777517  0.37298417  0.40830559  0.02953029]\n",
      " [ 0.90906128  0.11705564  0.08084605  0.6520828   0.69039317  0.62002534\n",
      "   0.97373031  0.03389526  0.22315603  0.23674943]\n",
      " [ 0.97729257  0.1685893   0.23043917  0.68105049  0.940553    0.64893014\n",
      "   0.18781338  0.25326196  0.61765268  0.71004936]\n",
      " [ 0.60730301  0.24053583  0.48310739  0.20862432  0.72215408  0.28460456\n",
      "   0.65709682  0.47304107  0.07275351  0.97780169]\n",
      " [ 0.07765037  0.87033159  0.5764991   0.7277827   0.39486055  0.14242528\n",
      "   0.61988999  0.96150492  0.65695926  0.97972374]\n",
      " [ 0.64247224  0.0707704   0.38106049  0.75074892  0.48644979  0.55954129\n",
      "   0.08797556  0.14009189  0.46398858  0.93571063]\n",
      " [ 0.71207003  0.1987183   0.27737875  0.58819159  0.13009674  0.90447321\n",
      "   0.35123187  0.30783851  0.82606024  0.67666538]\n",
      " [ 0.55025816  0.55701458  0.21718983  0.68944003  0.27008306  0.26752055\n",
      "   0.40836781  0.84885137  0.45351397  0.73829124]]\n",
      "[[ 1.  4.]\n",
      " [ 2.  5.]\n",
      " [ 3.  6.]]\n",
      "[[ 1.  4.]\n",
      " [ 2.  5.]\n",
      " [ 3.  6.]]\n",
      "[[ 1.  4.]\n",
      " [ 2.  5.]\n",
      " [ 3.  6.]]\n",
      "[[ 15.4  35.2]\n",
      " [ 35.2  84.7]]\n",
      "[[  1.1   4.4   9.9]\n",
      " [ 17.6  27.5  39.6]]\n",
      "[[ 0.90909091  0.90909091  0.90909091]\n",
      " [ 0.90909091  0.90909091  0.90909091]]\n",
      "[[   1.    8.   27.]\n",
      " [  64.  125.  216.]]\n"
     ]
    }
   ],
   "source": [
    "print(aa.transpose())\n",
    "print(a.T)\n",
    "print(a.conj().transpose())\n",
    "print(a.conj().T)\n",
    "print(a.dot(c.T))\n",
    "print(a*c)\n",
    "print(a/c)\n",
    "print(a**3)"
   ]
  },
  {
   "cell_type": "markdown",
   "metadata": {},
   "source": [
    "#### 4. Conditions"
   ]
  },
  {
   "cell_type": "code",
   "execution_count": 57,
   "metadata": {
    "collapsed": false
   },
   "outputs": [
    {
     "name": "stdout",
     "output_type": "stream",
     "text": [
      "3 3\n"
     ]
    },
    {
     "data": {
      "text/plain": [
       "array([[ 3.,  3.,  3.],\n",
       "       [ 3.,  3.,  3.]])"
      ]
     },
     "execution_count": 57,
     "metadata": {},
     "output_type": "execute_result"
    }
   ],
   "source": [
    "cc = array([[1,2,3],[4,5,6],[7,8,9]])\n",
    "v = array([1,2,5])\n",
    "\n",
    "(a>5)\n",
    "nonzero(a>0.5)\n",
    "a[:,nonzero(c>0.5)[0]]\n",
    "print(len(cc), len(v))\n",
    "\n",
    "cc[:, v.T>0.5]\n",
    "c[c<5]=0\n",
    "a*(a>0.5)"
   ]
  },
  {
   "cell_type": "markdown",
   "metadata": {},
   "source": [
    "#### 5. assigning, copying, "
   ]
  },
  {
   "cell_type": "code",
   "execution_count": 58,
   "metadata": {
    "collapsed": false
   },
   "outputs": [],
   "source": [
    "c[:] = 3\n",
    "y = c.copy()\n",
    "y = c[1,:].copy()\n",
    "y = c.flatten"
   ]
  },
  {
   "cell_type": "markdown",
   "metadata": {},
   "source": [
    "#### 6. building types of vectors"
   ]
  },
  {
   "cell_type": "code",
   "execution_count": 59,
   "metadata": {
    "collapsed": false
   },
   "outputs": [
    {
     "data": {
      "text/plain": [
       "array([ 3.,  3.])"
      ]
     },
     "execution_count": 59,
     "metadata": {},
     "output_type": "execute_result"
    }
   ],
   "source": [
    "arange(1., 11.)\n",
    "r_[1.:11.]\n",
    "r_[1:10:10j]\n",
    "\n",
    "arange(10.)\n",
    "r_[:10.]\n",
    "r_[:9:10j]\n",
    "\n",
    "arange(1.,11.)[:, newaxis]\n",
    "zeros((3,4))\n",
    "zeros((3,4,5))\n",
    "ones((3,4))\n",
    "eye(3)\n",
    "diag(a)\n",
    "diag(a,0)"
   ]
  },
  {
   "cell_type": "markdown",
   "metadata": {},
   "source": [
    "#### 7. Hi "
   ]
  },
  {
   "cell_type": "code",
   "execution_count": 80,
   "metadata": {
    "collapsed": false
   },
   "outputs": [
    {
     "ename": "TypeError",
     "evalue": "ufunc 'bitwise_and' not supported for the input types, and the inputs could not be safely coerced to any supported types according to the casting rule ''safe''",
     "output_type": "error",
     "traceback": [
      "\u001b[0;31m---------------------------------------------------------------------------\u001b[0m",
      "\u001b[0;31mTypeError\u001b[0m                                 Traceback (most recent call last)",
      "\u001b[0;32m<ipython-input-80-821d185f677b>\u001b[0m in \u001b[0;36m<module>\u001b[0;34m()\u001b[0m\n\u001b[1;32m     30\u001b[0m \u001b[0mlogical_and\u001b[0m\u001b[0;34m(\u001b[0m\u001b[0mk\u001b[0m\u001b[0;34m,\u001b[0m\u001b[0ml\u001b[0m\u001b[0;34m)\u001b[0m\u001b[0;34m\u001b[0m\u001b[0m\n\u001b[1;32m     31\u001b[0m \u001b[0mlogical_or\u001b[0m\u001b[0;34m(\u001b[0m\u001b[0mk\u001b[0m\u001b[0;34m,\u001b[0m \u001b[0ml\u001b[0m\u001b[0;34m)\u001b[0m\u001b[0;34m\u001b[0m\u001b[0m\n\u001b[0;32m---> 32\u001b[0;31m \u001b[0ma\u001b[0m \u001b[0;34m&\u001b[0m \u001b[0mb\u001b[0m\u001b[0;34m\u001b[0m\u001b[0m\n\u001b[0m\u001b[1;32m     33\u001b[0m \u001b[0ma\u001b[0m \u001b[0;34m|\u001b[0m \u001b[0mb\u001b[0m\u001b[0;34m\u001b[0m\u001b[0m\n\u001b[1;32m     34\u001b[0m \u001b[0mlinalg\u001b[0m\u001b[0;34m.\u001b[0m\u001b[0minv\u001b[0m\u001b[0;34m(\u001b[0m\u001b[0ma\u001b[0m\u001b[0;34m)\u001b[0m\u001b[0;34m\u001b[0m\u001b[0m\n",
      "\u001b[0;31mTypeError\u001b[0m: ufunc 'bitwise_and' not supported for the input types, and the inputs could not be safely coerced to any supported types according to the casting rule ''safe''"
     ]
    }
   ],
   "source": [
    "import numpy as np\n",
    "\n",
    "np.random.rand(3,4)\n",
    "linspace(1,3,4)\n",
    "mgrid[0:9., 0:6.]\n",
    "meshgrid(r_[0:9.], r_[0:6.])\n",
    "ogrid[0:9., 0:6.]\n",
    "ix_(r_[0:9.], r_[0:6.])\n",
    "meshgrid([1,2,4],[2,4,5])\n",
    "\n",
    "m = 2\n",
    "n = 3\n",
    "tile(a, (m,n))\n",
    "concatenate((a,b), 1)\n",
    "hstack((a, b))\n",
    "column_stack((a,b))\n",
    "\n",
    "concatenate((a,b)) \n",
    "vstack((a,b)) \n",
    "a.max()\n",
    "a.max(0)\n",
    "a.max(1)\n",
    "maximum(a, c)\n",
    "sqrt(dot(v,v)) \n",
    "np.linalg.norm(v)\n",
    "\n",
    "k = array([[1,2,3], [4,5,6], [7,8,9]])\n",
    "l = array([[1,1,3], [4,4,6], [7,8,9]])\n",
    "\n",
    "logical_and(k,l)\n",
    "logical_or(k, l)\n",
    "k & l\n",
    "k | l\n",
    "linalg.inv(a)\n",
    "linalg.pinv(a)\n",
    "linalg.matrix_rank(a)\n",
    "linalg.solve(a,b)\n",
    "linalg.lstsq(a,b)\n",
    "U, S, Vh = linalg.svd(a)\n",
    "V = Vh.T\n",
    "linalg.cholesky(a).T\n",
    "D,V = linalg.eig(a)\n",
    "V,D = np.linalg.eig(a,b)\n",
    "Q,R = scipy.linalg.qr(a)\n",
    "L,U = scipy.linalg.lu(a) \n",
    "LU,P=scipy.linalg.lu_factor(a)\n",
    "scipy.sparse.linalg.cg\n",
    "fft(a)   \n",
    "ifft(a)\n",
    "sort(a) \n",
    "a.sort()\n",
    "I = argsort(a[:,i])\n",
    "b=a[I,:]\n",
    "linalg.lstsq(X,y)\n",
    "scipy.signal.resample(x, len(x)/q)\n",
    "unique(a)\n",
    "a.squeeze()\n",
    "    \n",
    "\n",
    "\n",
    "r_[a,b]\n",
    "\n",
    "\n",
    "c_[a, b]"
   ]
  },
  {
   "cell_type": "markdown",
   "metadata": {},
   "source": [
    "### Task 2 (Optional) - Sanford Numpy Tutorial"
   ]
  },
  {
   "cell_type": "markdown",
   "metadata": {},
   "source": [
    "### Task 3 - Plotting (matPlotLib/PyPlot)"
   ]
  },
  {
   "cell_type": "code",
   "execution_count": 27,
   "metadata": {
    "collapsed": false
   },
   "outputs": [
    {
     "data": {
      "image/png": "[encoded data removed]",
      "text/plain": [
       "<matplotlib.figure.Figure at 0x10e871f28>"
      ]
     },
     "metadata": {},
     "output_type": "display_data"
    }
   ],
   "source": [
    "import matplotlib.pyplot as plt\n",
    "plt.plot([1,2,3,4], [1,2,7,14])\n",
    "plt.axis([0,6,0,20])\n",
    "plt.show()"
   ]
  },
  {
   "cell_type": "code",
   "execution_count": null,
   "metadata": {
    "collapsed": true
   },
   "outputs": [],
   "source": []
  }
 ],
 "metadata": {
  "kernelspec": {
   "display_name": "Python 3",
   "language": "python",
   "name": "python3"
  },
  "language_info": {
   "codemirror_mode": {
    "name": "ipython",
    "version": 3
   },
   "file_extension": ".py",
   "mimetype": "text/x-python",
   "name": "python",
   "nbconvert_exporter": "python",
   "pygments_lexer": "ipython3",
   "version": "3.6.0"
  }
 },
 "nbformat": 4,
 "nbformat_minor": 2
}
