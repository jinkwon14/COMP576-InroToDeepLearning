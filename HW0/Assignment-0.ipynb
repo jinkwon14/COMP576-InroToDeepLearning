{
 "cells": [
  {
   "cell_type": "markdown",
   "metadata": {},
   "source": [
    "## COMP576 - Intro to Deep Learning\n",
    "Jin Kwon (netid: jk14)"
   ]
  },
  {
   "cell_type": "markdown",
   "metadata": {},
   "source": [
    "## Task One : Python Machine Learning Stack (Anaconda)\n",
    "Below is the result of running `>> conda info` in terminal"
   ]
  },
  {
   "cell_type": "markdown",
   "metadata": {},
   "source": [
    "jin (master) COMP576 $ conda info  \n",
    "Current conda install:\n",
    "\n",
    "               platform : osx-64\n",
    "          conda version : 4.3.14\n",
    "       conda is private : False\n",
    "      conda-env version : 4.3.14\n",
    "    conda-build version : not installed\n",
    "         python version : 3.6.0.final.0\n",
    "       requests version : 2.18.4\n",
    "       root environment : /Users/jin-hyukkwon/miniconda3  (writable)\n",
    "    default environment : /Users/jin-hyukkwon/miniconda3\n",
    "       envs directories : /Users/jin-hyukkwon/miniconda3/envs\n",
    "                          /Users/jin-hyukkwon/.conda/envs\n",
    "          package cache : /Users/jin-hyukkwon/miniconda3/pkgs\n",
    "                          /Users/jin-hyukkwon/.conda/pkgs\n",
    "           channel URLs : https://conda.anaconda.org/anaconda-fusion/osx-64\n",
    "                          https://conda.anaconda.org/anaconda-fusion/noarch\n",
    "                          https://repo.continuum.io/pkgs/free/osx-64\n",
    "                          https://repo.continuum.io/pkgs/free/noarch\n",
    "                          https://repo.continuum.io/pkgs/r/osx-64\n",
    "                          https://repo.continuum.io/pkgs/r/noarch\n",
    "                          https://repo.continuum.io/pkgs/pro/osx-64\n",
    "                          https://repo.continuum.io/pkgs/pro/noarch\n",
    "            config file : /Users/jin-hyukkwon/.condarc\n",
    "           offline mode : False\n",
    "             user-agent : conda/4.3.14 requests/2.18.4 CPython/3.6.0 Darwin/16.7.0 OSX/10.12.6\n",
    "                UID:GID : 501:20"
   ]
  },
  {
   "cell_type": "markdown",
   "metadata": {},
   "source": [
    "## Task Two: Interactive Terminal (IPython)\n",
    "I am writing this report on a Jupyter Notebook!"
   ]
  },
  {
   "cell_type": "markdown",
   "metadata": {},
   "source": [
    "## Task Three: Transition from MATLAB to Python  \n"
   ]
  },
  {
   "cell_type": "code",
   "execution_count": 1,
   "metadata": {
    "collapsed": false
   },
   "outputs": [
    {
     "name": "stdout",
     "output_type": "stream",
     "text": [
      "packages loaded!\n"
     ]
    }
   ],
   "source": [
    "# load packages\n",
    "from numpy import * \n",
    "import scipy.linalg\n",
    "print('packages loaded!')"
   ]
  },
  {
   "cell_type": "markdown",
   "metadata": {},
   "source": [
    "#### 1. "
   ]
  },
  {
   "cell_type": "code",
   "execution_count": 2,
   "metadata": {
    "collapsed": false
   },
   "outputs": [
    {
     "name": "stdout",
     "output_type": "stream",
     "text": [
      "numpy functions from this point will be tested with the following         arrays: \n",
      "\n",
      " a = [3 4], \n",
      " b = [[1 2 3]\n",
      " [4 5 6]] \n",
      "\n",
      "ndim - a: 1,  b: 2\n",
      "size - a: 2,  b: 6\n",
      "shape - a: (2,),  b: (2, 3)\n",
      "a.shape[n-1] - a: 2,  b: 2\n",
      "a.shape[n-1] - b: 3\n"
     ]
    }
   ],
   "source": [
    "# load a random array a\n",
    "a = array([3,4])\n",
    "b = array([[1,2,3], [4,5,6]])\n",
    "print('numpy functions from this point will be tested with the following \\\n",
    "        arrays: \\n\\n a = {}, \\n b = {}'.format(a, b), '\\n')\n",
    "# get the number of dimensions of an array\n",
    "print('ndim - a: {},  b: {}'.format(ndim(a), ndim(b)))\n",
    "print('size - a: {},  b: {}'.format(size(a), size(b)))\n",
    "print('shape - a: {},  b: {}'.format(shape(a), shape(b)))\n",
    "n = 1\n",
    "print('a.shape[n-1] - a: {},  b: {}'.format(a.shape[n-1], b.shape[n-1]))\n",
    "n = 2\n",
    "print('a.shape[n-1] - b: {}'.format(b.shape[n-1]))"
   ]
  },
  {
   "cell_type": "markdown",
   "metadata": {},
   "source": [
    "#### 2."
   ]
  },
  {
   "cell_type": "code",
   "execution_count": 3,
   "metadata": {
    "collapsed": false
   },
   "outputs": [
    {
     "name": "stdout",
     "output_type": "stream",
     "text": [
      "[['1.0' '2.0' '3.0' 'a' 'b' 'c']\n",
      " ['4.0' '5.0' '6.0' 'd' 'e' 'f']\n",
      " ['1.1' '2.2' '3.3' '0.0' '0.0' '0.0']\n",
      " ['4.4' '5.5' '6.6' '0.0' '0.0' '0.0']]\n",
      "[['1.0' '2.0' '3.0' 'a' 'b' 'c']\n",
      " ['4.0' '5.0' '6.0' 'd' 'e' 'f']\n",
      " ['1.1' '2.2' '3.3' '0.0' '0.0' '0.0']\n",
      " ['4.4' '5.5' '6.6' '0.0' '0.0' '0.0']]\n",
      "[ 0.29267491  0.5619626   0.82840769  0.98555405  0.72581021  0.51604735\n",
      "  0.55889312  0.44370334  0.87919938  0.13868008]\n",
      "0.205663593317\n",
      "[ 0.7586692   0.88017594  0.20566359  0.19107589  0.70473396  0.1836007\n",
      "  0.75716246  0.32357388  0.09314595  0.6432259 ] [ 0.7586692   0.88017594  0.20566359  0.19107589  0.70473396  0.1836007\n",
      "  0.75716246  0.32357388  0.09314595  0.6432259 ]\n",
      "[[ 0.41024128  0.30789023  0.64341743  0.97876491  0.96930526  0.69297939\n",
      "   0.12598782  0.11291529  0.60175615  0.01692587]\n",
      " [ 0.7586692   0.88017594  0.20566359  0.19107589  0.70473396  0.1836007\n",
      "   0.75716246  0.32357388  0.09314595  0.6432259 ]] [[ 0.41024128  0.30789023  0.64341743  0.97876491  0.96930526  0.69297939\n",
      "   0.12598782  0.11291529  0.60175615  0.01692587]\n",
      " [ 0.7586692   0.88017594  0.20566359  0.19107589  0.70473396  0.1836007\n",
      "   0.75716246  0.32357388  0.09314595  0.6432259 ]] [[ 0.41024128  0.30789023  0.64341743  0.97876491  0.96930526  0.69297939\n",
      "   0.12598782  0.11291529  0.60175615  0.01692587]\n",
      " [ 0.7586692   0.88017594  0.20566359  0.19107589  0.70473396  0.1836007\n",
      "   0.75716246  0.32357388  0.09314595  0.6432259 ]]\n",
      "[[ 0.29267491  0.5619626   0.82840769  0.98555405  0.72581021  0.51604735\n",
      "   0.55889312  0.44370334  0.87919938  0.13868008]]\n",
      "[[ 0.30789023]\n",
      " [ 0.88017594]]\n",
      "[[ 0.82134706  0.35851218  0.72657934  0.78219663  0.54277983  0.28596314\n",
      "   0.07208199  0.3626044   0.06015553  0.54373997]\n",
      " [ 0.29265173  0.54396487  0.33027969  0.69232899  0.5559343   0.29408489\n",
      "   0.85447992  0.34814625  0.25327261  0.31663306]\n",
      " [ 0.71537908  0.39093018  0.63053527  0.60390066  0.71398408  0.03843323\n",
      "   0.46302199  0.25677319  0.3058978   0.71249817]\n",
      " [ 0.26673991  0.44791666  0.16668434  0.8951994   0.81840665  0.69176248\n",
      "   0.60934893  0.76646665  0.18286256  0.37311672]]\n",
      "[[ 0.41024128  0.30789023  0.64341743  0.97876491  0.96930526  0.69297939\n",
      "   0.12598782  0.11291529  0.60175615  0.01692587]\n",
      " [ 0.82134706  0.35851218  0.72657934  0.78219663  0.54277983  0.28596314\n",
      "   0.07208199  0.3626044   0.06015553  0.54373997]\n",
      " [ 0.29265173  0.54396487  0.33027969  0.69232899  0.5559343   0.29408489\n",
      "   0.85447992  0.34814625  0.25327261  0.31663306]\n",
      " [ 0.71537908  0.39093018  0.63053527  0.60390066  0.71398408  0.03843323\n",
      "   0.46302199  0.25677319  0.3058978   0.71249817]\n",
      " [ 0.26673991  0.44791666  0.16668434  0.8951994   0.81840665  0.69176248\n",
      "   0.60934893  0.76646665  0.18286256  0.37311672]]\n",
      "[[ 0.29267491  0.5619626   0.82840769  0.98555405  0.72581021  0.51604735\n",
      "   0.55889312  0.44370334  0.87919938  0.13868008]\n",
      " [ 0.26673991  0.44791666  0.16668434  0.8951994   0.81840665  0.69176248\n",
      "   0.60934893  0.76646665  0.18286256  0.37311672]\n",
      " [ 0.03368528  0.89687987  0.42934602  0.57064833  0.70632112  0.55508259\n",
      "   0.06623165  0.04735976  0.63201425  0.19402675]\n",
      " [ 0.71537908  0.39093018  0.63053527  0.60390066  0.71398408  0.03843323\n",
      "   0.46302199  0.25677319  0.3058978   0.71249817]\n",
      " [ 0.20696866  0.06394913  0.45960316  0.79409628  0.6134333   0.95608249\n",
      "   0.53434204  0.49400899  0.45414841  0.72999267]\n",
      " [ 0.29265173  0.54396487  0.33027969  0.69232899  0.5559343   0.29408489\n",
      "   0.85447992  0.34814625  0.25327261  0.31663306]\n",
      " [ 0.32996227  0.63525905  0.09158368  0.87645841  0.68166515  0.73496001\n",
      "   0.51455724  0.04274365  0.75687515  0.00351523]\n",
      " [ 0.82134706  0.35851218  0.72657934  0.78219663  0.54277983  0.28596314\n",
      "   0.07208199  0.3626044   0.06015553  0.54373997]\n",
      " [ 0.7586692   0.88017594  0.20566359  0.19107589  0.70473396  0.1836007\n",
      "   0.75716246  0.32357388  0.09314595  0.6432259 ]\n",
      " [ 0.41024128  0.30789023  0.64341743  0.97876491  0.96930526  0.69297939\n",
      "   0.12598782  0.11291529  0.60175615  0.01692587]]\n",
      "[[ 0.41024128  0.30789023  0.64341743  0.97876491  0.96930526  0.69297939\n",
      "   0.12598782  0.11291529  0.60175615  0.01692587]\n",
      " [ 0.7586692   0.88017594  0.20566359  0.19107589  0.70473396  0.1836007\n",
      "   0.75716246  0.32357388  0.09314595  0.6432259 ]\n",
      " [ 0.41024128  0.30789023  0.64341743  0.97876491  0.96930526  0.69297939\n",
      "   0.12598782  0.11291529  0.60175615  0.01692587]]\n"
     ]
    }
   ],
   "source": [
    "a = array([[1., 2., 3.], [4., 5., 6.]])\n",
    "b = array([['a', 'b', 'c'], ['d', 'e', 'f']])\n",
    "c = array([[1.1, 2.2, 3.3], [4.4, 5.5, 6.6]])\n",
    "d = array([[0, 0, 0], [0, 0, 0]])\n",
    "\n",
    "aa = random.rand(10,10)\n",
    "print(vstack([hstack([a,b]),hstack([c,d])]))\n",
    "print(bmat('a b; c d').A)\n",
    "print(aa[-1])\n",
    "print(aa[1, 2])\n",
    "print(aa[1], aa[1,:])\n",
    "print(aa[0:2], aa[:2], aa[0:2, :])\n",
    "print(aa[-1:])\n",
    "print(aa[0:2][:,1:2])\n",
    "print(aa[ 2:21:2, :])\n",
    "print(aa[::2, :])\n",
    "print(aa[::-1,:])\n",
    "print(aa[r_[:len(a),0]])"
   ]
  },
  {
   "cell_type": "markdown",
   "metadata": {},
   "source": [
    "#### 3. "
   ]
  },
  {
   "cell_type": "code",
   "execution_count": 4,
   "metadata": {
    "collapsed": false
   },
   "outputs": [
    {
     "name": "stdout",
     "output_type": "stream",
     "text": [
      "[[ 0.41024128  0.7586692   0.82134706  0.32996227  0.29265173  0.20696866\n",
      "   0.71537908  0.03368528  0.26673991  0.29267491]\n",
      " [ 0.30789023  0.88017594  0.35851218  0.63525905  0.54396487  0.06394913\n",
      "   0.39093018  0.89687987  0.44791666  0.5619626 ]\n",
      " [ 0.64341743  0.20566359  0.72657934  0.09158368  0.33027969  0.45960316\n",
      "   0.63053527  0.42934602  0.16668434  0.82840769]\n",
      " [ 0.97876491  0.19107589  0.78219663  0.87645841  0.69232899  0.79409628\n",
      "   0.60390066  0.57064833  0.8951994   0.98555405]\n",
      " [ 0.96930526  0.70473396  0.54277983  0.68166515  0.5559343   0.6134333\n",
      "   0.71398408  0.70632112  0.81840665  0.72581021]\n",
      " [ 0.69297939  0.1836007   0.28596314  0.73496001  0.29408489  0.95608249\n",
      "   0.03843323  0.55508259  0.69176248  0.51604735]\n",
      " [ 0.12598782  0.75716246  0.07208199  0.51455724  0.85447992  0.53434204\n",
      "   0.46302199  0.06623165  0.60934893  0.55889312]\n",
      " [ 0.11291529  0.32357388  0.3626044   0.04274365  0.34814625  0.49400899\n",
      "   0.25677319  0.04735976  0.76646665  0.44370334]\n",
      " [ 0.60175615  0.09314595  0.06015553  0.75687515  0.25327261  0.45414841\n",
      "   0.3058978   0.63201425  0.18286256  0.87919938]\n",
      " [ 0.01692587  0.6432259   0.54373997  0.00351523  0.31663306  0.72999267\n",
      "   0.71249817  0.19402675  0.37311672  0.13868008]]\n",
      "[[ 1.  4.]\n",
      " [ 2.  5.]\n",
      " [ 3.  6.]]\n",
      "[[ 1.  4.]\n",
      " [ 2.  5.]\n",
      " [ 3.  6.]]\n",
      "[[ 1.  4.]\n",
      " [ 2.  5.]\n",
      " [ 3.  6.]]\n",
      "[[ 15.4  35.2]\n",
      " [ 35.2  84.7]]\n",
      "[[  1.1   4.4   9.9]\n",
      " [ 17.6  27.5  39.6]]\n",
      "[[ 0.90909091  0.90909091  0.90909091]\n",
      " [ 0.90909091  0.90909091  0.90909091]]\n",
      "[[   1.    8.   27.]\n",
      " [  64.  125.  216.]]\n"
     ]
    }
   ],
   "source": [
    "print(aa.transpose())\n",
    "print(a.T)\n",
    "print(a.conj().transpose())\n",
    "print(a.conj().T)\n",
    "print(a.dot(c.T))\n",
    "print(a*c)\n",
    "print(a/c)\n",
    "print(a**3)"
   ]
  },
  {
   "cell_type": "markdown",
   "metadata": {},
   "source": [
    "#### 4. Conditions"
   ]
  },
  {
   "cell_type": "code",
   "execution_count": 5,
   "metadata": {
    "collapsed": false
   },
   "outputs": [
    {
     "name": "stdout",
     "output_type": "stream",
     "text": [
      "3 3\n"
     ]
    },
    {
     "data": {
      "text/plain": [
       "array([[ 1.,  2.,  3.],\n",
       "       [ 4.,  5.,  6.]])"
      ]
     },
     "execution_count": 5,
     "metadata": {},
     "output_type": "execute_result"
    }
   ],
   "source": [
    "cc = array([[1,2,3],[4,5,6],[7,8,9]])\n",
    "v = array([1,2,5])\n",
    "\n",
    "(a>5)\n",
    "nonzero(a>0.5)\n",
    "a[:,nonzero(c>0.5)[0]]\n",
    "print(len(cc), len(v))\n",
    "\n",
    "cc[:, v.T>0.5]\n",
    "c[c<5]=0\n",
    "a*(a>0.5)"
   ]
  },
  {
   "cell_type": "markdown",
   "metadata": {},
   "source": [
    "#### 5. assigning, copying, "
   ]
  },
  {
   "cell_type": "code",
   "execution_count": 6,
   "metadata": {
    "collapsed": false
   },
   "outputs": [],
   "source": [
    "c[:] = 3\n",
    "y = c.copy()\n",
    "y = c[1,:].copy()\n",
    "y = c.flatten"
   ]
  },
  {
   "cell_type": "markdown",
   "metadata": {},
   "source": [
    "#### 6. building types of vectors"
   ]
  },
  {
   "cell_type": "code",
   "execution_count": 7,
   "metadata": {
    "collapsed": false
   },
   "outputs": [
    {
     "data": {
      "text/plain": [
       "array([ 1.,  5.])"
      ]
     },
     "execution_count": 7,
     "metadata": {},
     "output_type": "execute_result"
    }
   ],
   "source": [
    "arange(1., 11.)\n",
    "r_[1.:11.]\n",
    "r_[1:10:10j]\n",
    "\n",
    "arange(10.)\n",
    "r_[:10.]\n",
    "r_[:9:10j]\n",
    "\n",
    "arange(1.,11.)[:, newaxis]\n",
    "zeros((3,4))\n",
    "zeros((3,4,5))\n",
    "ones((3,4))\n",
    "eye(3)\n",
    "diag(a)\n",
    "diag(a,0)"
   ]
  },
  {
   "cell_type": "markdown",
   "metadata": {},
   "source": [
    "#### 7.  And more.."
   ]
  },
  {
   "cell_type": "code",
   "execution_count": 41,
   "metadata": {
    "collapsed": false
   },
   "outputs": [
    {
     "data": {
      "text/plain": [
       "array([[ 1,  2,  8],\n",
       "       [ 1,  6, 10],\n",
       "       [ 2,  6,  9]])"
      ]
     },
     "execution_count": 41,
     "metadata": {},
     "output_type": "execute_result"
    }
   ],
   "source": [
    "import numpy as np\n",
    "import scipy\n",
    "from scipy import sparse\n",
    "# import numpy.linalg.matrix_rank\n",
    "\n",
    "\n",
    "a = array([[8,1,2], [1,10,6], [2,6,9]])\n",
    "b = array([[1,1,3], [4,4,6], [7,8,9]])\n",
    "c = array([[2,3,4],[5,6,7],[8,9,10]])\n",
    "\n",
    "np.random.rand(3,4)\n",
    "linspace(1,3,4)\n",
    "mgrid[0:9., 0:6.]\n",
    "meshgrid(r_[0:9.], r_[0:6.])\n",
    "ogrid[0:9., 0:6.]\n",
    "ix_(r_[0:9.], r_[0:6.])\n",
    "meshgrid([1,2,4],[2,4,5])\n",
    "\n",
    "m = 2\n",
    "n = 3\n",
    "tile(a, (m,n))\n",
    "concatenate((a,b), 1)\n",
    "hstack((a, b))\n",
    "column_stack((a,b))\n",
    "\n",
    "concatenate((a,b)) \n",
    "vstack((a,b)) \n",
    "a.max()\n",
    "a.max(0)\n",
    "a.max(1)\n",
    "maximum(a, c)\n",
    "sqrt(dot(v,v)) \n",
    "np.linalg.norm(v)\n",
    "\n",
    "logical_and(a,b)\n",
    "logical_or(a, b)\n",
    "a & b\n",
    "a | b\n",
    "linalg.inv(a)\n",
    "linalg.pinv(a)\n",
    "np.linalg.matrix_rank(a)\n",
    "linalg.solve(a,b)\n",
    "linalg.lstsq(a,b)\n",
    "U, S, Vh = linalg.svd(a)\n",
    "V = Vh.T\n",
    "\n",
    "d = array([[1,2],[3,4]])\n",
    "linalg.cholesky(a).T\n",
    "D,V = linalg.eig(a)\n",
    "V,D = np.linalg.eig(b)\n",
    "Q,R = scipy.linalg.qr(a)\n",
    "P, L,U = scipy.linalg.lu(a) \n",
    "LU,P=scipy.linalg.lu_factor(a)\n",
    "# np.fft(a)   \n",
    "# ifft(a)\n",
    "sort(a) \n",
    "a.sort()\n",
    "I = argsort(a[:,2])\n",
    "b=a[I,:]\n",
    "linalg.lstsq(a,b)\n",
    "# scipy.signal.resample(x, len(x)/q)\n",
    "unique(a)\n",
    "a.squeeze()"
   ]
  },
  {
   "cell_type": "markdown",
   "metadata": {},
   "source": [
    "## Task 4: Plotting (matPlotLib/PyPlot)"
   ]
  },
  {
   "cell_type": "code",
   "execution_count": null,
   "metadata": {
    "collapsed": false
   },
   "outputs": [],
   "source": [
    "import matplotlib.pyplot as plt\n",
    "plt.plot([1,2,3,4], [1,2,7,14])\n",
    "plt.axis([0,6,0,20])\n",
    "plt.show()"
   ]
  },
  {
   "cell_type": "markdown",
   "metadata": {
    "collapsed": true
   },
   "source": [
    "## Task 5: Paste your VCS account into your report  \n",
    "Link to GitHub: [github.com/jinkwon14](github.com/jinkwon14)"
   ]
  },
  {
   "cell_type": "markdown",
   "metadata": {},
   "source": [
    "## Task 6: Integrated Development Environment (PyCharm)\n",
    "Link to \"project\": "
   ]
  }
 ],
 "metadata": {
  "kernelspec": {
   "display_name": "Python 3",
   "language": "python",
   "name": "python3"
  },
  "language_info": {
   "codemirror_mode": {
    "name": "ipython",
    "version": 3
   },
   "file_extension": ".py",
   "mimetype": "text/x-python",
   "name": "python",
   "nbconvert_exporter": "python",
   "pygments_lexer": "ipython3",
   "version": "3.6.0"
  }
 },
 "nbformat": 4,
 "nbformat_minor": 2
}
